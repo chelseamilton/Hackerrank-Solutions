{
 "cells": [
  {
   "cell_type": "markdown",
   "id": "fbf37780",
   "metadata": {},
   "source": [
    "# Tuples\n",
    "\n",
    "Given an integer, n, and n space-separated integers as input, create a tuple, t, of those n integers. Then compute and print the result of hash(t).\n",
    "\n",
    "Note: hash() is one of the functions in the __builtins__ module, so it need not be imported."
   ]
  },
  {
   "cell_type": "markdown",
   "id": "028e1e2e",
   "metadata": {},
   "source": [
    "n is a variable which asks the user the number of elements in the tuple"
   ]
  },
  {
   "cell_type": "code",
   "execution_count": 2,
   "id": "bf0d729c",
   "metadata": {},
   "outputs": [
    {
     "name": "stdout",
     "output_type": "stream",
     "text": [
      "2\n"
     ]
    }
   ],
   "source": [
    "if __name__ == '__main__':\n",
    "    n = int(input())    "
   ]
  },
  {
   "cell_type": "markdown",
   "id": "3a151fed",
   "metadata": {},
   "source": [
    "We then ask the user for the elements and we use the map() function to convert each input as an integer and we use .split() function to create a list from the given input, ie., if the input is 1 2 3 4 5, the .split() function makes it [1, 2, 3, 4, 5]. \n",
    "\n",
    "The tuple() function converts the data type to a tuple."
   ]
  },
  {
   "cell_type": "code",
   "execution_count": 3,
   "id": "74a64d1b",
   "metadata": {},
   "outputs": [
    {
     "name": "stdout",
     "output_type": "stream",
     "text": [
      "1 2\n"
     ]
    }
   ],
   "source": [
    "t = tuple(map(int, input().split()))    "
   ]
  },
  {
   "cell_type": "markdown",
   "id": "e7b5faba",
   "metadata": {},
   "source": [
    "The hash(t) function is a built in function. "
   ]
  },
  {
   "cell_type": "code",
   "execution_count": 4,
   "id": "b54a6892",
   "metadata": {},
   "outputs": [
    {
     "name": "stdout",
     "output_type": "stream",
     "text": [
      "-3550055125485641917\n"
     ]
    }
   ],
   "source": [
    "print(hash(t))"
   ]
  }
 ],
 "metadata": {
  "kernelspec": {
   "display_name": "Python 3",
   "language": "python",
   "name": "python3"
  },
  "language_info": {
   "codemirror_mode": {
    "name": "ipython",
    "version": 3
   },
   "file_extension": ".py",
   "mimetype": "text/x-python",
   "name": "python",
   "nbconvert_exporter": "python",
   "pygments_lexer": "ipython3",
   "version": "3.9.5"
  }
 },
 "nbformat": 4,
 "nbformat_minor": 5
}
