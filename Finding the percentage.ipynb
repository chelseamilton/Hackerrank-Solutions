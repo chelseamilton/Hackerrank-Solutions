{
 "cells": [
  {
   "cell_type": "markdown",
   "id": "f72bded6",
   "metadata": {},
   "source": [
    "# Finding the percentage\n",
    "\n",
    "The provided code stub will read in a dictionary containing key/value pairs of name:[marks] for a list of students. Print the average of the marks array for the student name provided, showing 2 places after the decimal.\n"
   ]
  },
  {
   "cell_type": "markdown",
   "id": "b7e0c19b",
   "metadata": {},
   "source": [
    "We create an empty list, grade, to store the name and the scores of the student. We use the for loop to run the program until the no. of students taken as input is satisfied. The \" name, line = input().split() \" means that, the user enters the students name and the scores they recieved, the line, takes the next few inputs after the first as the scores. For ex, Suraj 15 20 25, here Suraj is taken as the name, and 15 20 25 is taken as the scores he is awarded. \n",
    "\n",
    "\" scores = list(map(float, line)) \" we used to differentiate the scores from the name. After the scores are split from the name in the previous line, we map all the scores to float data type and create a list of the scores.\n",
    "\n",
    "We then append the name and scores to the grade list. "
   ]
  },
  {
   "cell_type": "code",
   "execution_count": 2,
   "id": "6490617b",
   "metadata": {},
   "outputs": [
    {
     "name": "stdout",
     "output_type": "stream",
     "text": [
      "3\n",
      "Krishna 67 68 69\n",
      "Arjun 70 98 63\n",
      "Malika 52 56 60\n",
      "[('Krishna', [67.0, 68.0, 69.0]), ('Arjun', [70.0, 98.0, 63.0]), ('Malika', [52.0, 56.0, 60.0])]\n"
     ]
    }
   ],
   "source": [
    "if __name__ == '__main__':\n",
    "    grade = []\n",
    "    for _ in range(int(input())):\n",
    "        name, *line = input().split()\n",
    "        scores = list(map(float, line))\n",
    "        grade.append((name, scores))\n",
    "    print(grade)"
   ]
  },
  {
   "cell_type": "markdown",
   "id": "06ebe240",
   "metadata": {},
   "source": [
    "Here, we convert the list to a dictionary where the name is the key and the scores are the values."
   ]
  },
  {
   "cell_type": "code",
   "execution_count": 3,
   "id": "1b34b481",
   "metadata": {},
   "outputs": [
    {
     "name": "stdout",
     "output_type": "stream",
     "text": [
      "{'Krishna': [67.0, 68.0, 69.0], 'Arjun': [70.0, 98.0, 63.0], 'Malika': [52.0, 56.0, 60.0]}\n"
     ]
    }
   ],
   "source": [
    "dictionary = dict(grade)\n",
    "print(dictionary)"
   ]
  },
  {
   "cell_type": "markdown",
   "id": "4f750bff",
   "metadata": {},
   "source": [
    "Here, we are asking the user the name of the student who's percentage should be calculated. "
   ]
  },
  {
   "cell_type": "code",
   "execution_count": 4,
   "id": "92c4e3f5",
   "metadata": {},
   "outputs": [
    {
     "name": "stdout",
     "output_type": "stream",
     "text": [
      "name : Malika\n"
     ]
    }
   ],
   "source": [
    " query_name = input('name : ')"
   ]
  },
  {
   "cell_type": "markdown",
   "id": "652bde7f",
   "metadata": {},
   "source": [
    "We then print the percentage. \" {0:.2f} \" is used to get two decimal places of the percentage. We used the sum() function to calculate the total score. We used .get() to get the values (scores) of the student and divide it by the total number of scores, for that we use len function. "
   ]
  },
  {
   "cell_type": "code",
   "execution_count": 5,
   "id": "563e8cff",
   "metadata": {},
   "outputs": [
    {
     "name": "stdout",
     "output_type": "stream",
     "text": [
      "56.00\n"
     ]
    }
   ],
   "source": [
    "print('{0:.2f}'.format(sum(dictionary.get(query_name))/len(dictionary.get(query_name))))"
   ]
  }
 ],
 "metadata": {
  "kernelspec": {
   "display_name": "Python 3",
   "language": "python",
   "name": "python3"
  },
  "language_info": {
   "codemirror_mode": {
    "name": "ipython",
    "version": 3
   },
   "file_extension": ".py",
   "mimetype": "text/x-python",
   "name": "python",
   "nbconvert_exporter": "python",
   "pygments_lexer": "ipython3",
   "version": "3.9.5"
  }
 },
 "nbformat": 4,
 "nbformat_minor": 5
}
