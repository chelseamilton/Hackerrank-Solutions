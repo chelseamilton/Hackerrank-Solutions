{
 "cells": [
  {
   "cell_type": "markdown",
   "id": "6fe92318",
   "metadata": {},
   "source": [
    "# Nested Lists Challenge\n",
    "\n",
    "Given the names and grades for each student in a class of N students, store them in a nested list and print the name(s) of any student(s) having the second lowest grade.\n",
    "\n",
    "Note: If there are multiple students with the second lowest grade, order their names alphabetically and print each name on a new line."
   ]
  },
  {
   "cell_type": "markdown",
   "id": "30e35a10",
   "metadata": {},
   "source": [
    "Creating an empty list called Grade, to store [Name, Grade] of each student given as input. The for loop uses _ instead of defining a variable. The for loop runs for a range which is taken as input from the user, as the total number of students. "
   ]
  },
  {
   "cell_type": "code",
   "execution_count": 1,
   "id": "13220fee",
   "metadata": {},
   "outputs": [
    {
     "name": "stdout",
     "output_type": "stream",
     "text": [
      "5\n",
      "Harry\n",
      "37.21\n",
      "Berry\n",
      "37.21\n",
      "Tina\n",
      "37.2\n",
      "Akriti\n",
      "41\n",
      "Harsh\n",
      "39\n"
     ]
    }
   ],
   "source": [
    "if __name__ == '__main__':\n",
    "    grade = []\n",
    "    for _ in range(int(input())):\n",
    "        name = input()\n",
    "        score = float(input())\n",
    "        grade.append([name, score])"
   ]
  },
  {
   "cell_type": "markdown",
   "id": "ef2b2481",
   "metadata": {},
   "source": [
    "Sorted_scores is a list to store only the scores from the grade list. We used the sorted() function to sort the scores in ascending order. The set function is then used to remove duplicates from the list. We define a variable X[1] which denotes that for all integers in position 1, in grade list, should be appended in the sorted scores list. We then assign the second lowest score to the variable second_lowest."
   ]
  },
  {
   "cell_type": "code",
   "execution_count": 2,
   "id": "23639dd7",
   "metadata": {},
   "outputs": [],
   "source": [
    "sorted_scores = sorted(set([x[1] for x in grade]))\n",
    "second_lowest = sorted_scores[1]"
   ]
  },
  {
   "cell_type": "markdown",
   "id": "5279d8ac",
   "metadata": {},
   "source": [
    "We then print the Name associated with the second lowest score, and run a for loop to check if there's another student with the same score as the second_lowest. We used the .join() function to print a statment and \\n to print another name in the next line if there are more than two students with the second lowest score."
   ]
  },
  {
   "cell_type": "code",
   "execution_count": 3,
   "id": "e24704da",
   "metadata": {},
   "outputs": [
    {
     "name": "stdout",
     "output_type": "stream",
     "text": [
      "Berry\n",
      "Harry\n"
     ]
    }
   ],
   "source": [
    "low = print('\\n'.join(sorted([y[0] for y in grade if second_lowest == y[1]])))"
   ]
  }
 ],
 "metadata": {
  "kernelspec": {
   "display_name": "Python 3",
   "language": "python",
   "name": "python3"
  },
  "language_info": {
   "codemirror_mode": {
    "name": "ipython",
    "version": 3
   },
   "file_extension": ".py",
   "mimetype": "text/x-python",
   "name": "python",
   "nbconvert_exporter": "python",
   "pygments_lexer": "ipython3",
   "version": "3.9.5"
  }
 },
 "nbformat": 4,
 "nbformat_minor": 5
}
