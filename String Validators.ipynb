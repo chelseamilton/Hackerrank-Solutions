{
 "cells": [
  {
   "cell_type": "markdown",
   "id": "476fd8dc",
   "metadata": {},
   "source": [
    "# String Validators\n",
    "\n",
    "You are given a string S.\n",
    "Your task is to find out if the string S contains: alphanumeric characters, alphabetical characters, digits, lowercase and uppercase characters."
   ]
  },
  {
   "cell_type": "markdown",
   "id": "2305cc8f",
   "metadata": {},
   "source": [
    "Taking the string as an input from the user."
   ]
  },
  {
   "cell_type": "code",
   "execution_count": 1,
   "id": "8a2e77e0",
   "metadata": {},
   "outputs": [
    {
     "name": "stdout",
     "output_type": "stream",
     "text": [
      "qA2\n"
     ]
    }
   ],
   "source": [
    "if __name__ == '__main__':\n",
    "    s = input()"
   ]
  },
  {
   "cell_type": "markdown",
   "id": "cd4fe704",
   "metadata": {},
   "source": [
    "We use the any() function to return a boolen if any element in the string satisfies the condition. We use the for loop to run the condition through every element of the string."
   ]
  },
  {
   "cell_type": "code",
   "execution_count": 2,
   "id": "35f0a769",
   "metadata": {},
   "outputs": [
    {
     "name": "stdout",
     "output_type": "stream",
     "text": [
      "True\n",
      "True\n",
      "True\n",
      "True\n",
      "True\n"
     ]
    }
   ],
   "source": [
    "print(any(x.isalnum() for x in s))\n",
    "print(any(x.isalpha() for x in s))\n",
    "print(any(x.isdigit() for x in s))\n",
    "print(any(x.islower() for x in s))\n",
    "print(any(x.isupper() for x in s))"
   ]
  }
 ],
 "metadata": {
  "kernelspec": {
   "display_name": "Python 3",
   "language": "python",
   "name": "python3"
  },
  "language_info": {
   "codemirror_mode": {
    "name": "ipython",
    "version": 3
   },
   "file_extension": ".py",
   "mimetype": "text/x-python",
   "name": "python",
   "nbconvert_exporter": "python",
   "pygments_lexer": "ipython3",
   "version": "3.9.5"
  }
 },
 "nbformat": 4,
 "nbformat_minor": 5
}
