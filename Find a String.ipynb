{
 "cells": [
  {
   "cell_type": "markdown",
   "id": "0ebf50e3",
   "metadata": {},
   "source": [
    "# Find a String\n",
    "\n",
    "In this challenge, the user enters a string and a substring. You have to print the number of times that the substring occurs in the given string. String traversal will take place from left to right, not from right to left.\n",
    "\n",
    "NOTE: String letters are case-sensitive."
   ]
  },
  {
   "cell_type": "markdown",
   "id": "9c874ad9",
   "metadata": {},
   "source": [
    "We define a function count_substring, and the input parameters are the string and the sub_string. We define a variable count and equate it to zero. \n",
    "\n",
    "We use the while loop, the while loop will run until the .find() function can find the sub_string in the parent string. The 'f' variable is used to find the sub_string in the parent string using .find() function. \n",
    "\n",
    "We then add 1 to count and the loop continues until the sub_string is found in the parent string. We then return the total count. "
   ]
  },
  {
   "cell_type": "code",
   "execution_count": 5,
   "id": "94e49a54",
   "metadata": {},
   "outputs": [],
   "source": [
    "def count_substring(string, sub_string):\n",
    "    count = 0\n",
    "    while sub_string in string:\n",
    "        f = string.find(sub_string)\n",
    "        string = string[:f] + string[f+1:]\n",
    "        count += 1\n",
    "    return count"
   ]
  },
  {
   "cell_type": "code",
   "execution_count": 6,
   "id": "11ef2cf2",
   "metadata": {},
   "outputs": [
    {
     "data": {
      "text/plain": [
       "2"
      ]
     },
     "execution_count": 6,
     "metadata": {},
     "output_type": "execute_result"
    }
   ],
   "source": [
    "count_substring('ABCDCDC', 'CDC')"
   ]
  }
 ],
 "metadata": {
  "kernelspec": {
   "display_name": "Python 3",
   "language": "python",
   "name": "python3"
  },
  "language_info": {
   "codemirror_mode": {
    "name": "ipython",
    "version": 3
   },
   "file_extension": ".py",
   "mimetype": "text/x-python",
   "name": "python",
   "nbconvert_exporter": "python",
   "pygments_lexer": "ipython3",
   "version": "3.9.5"
  }
 },
 "nbformat": 4,
 "nbformat_minor": 5
}
