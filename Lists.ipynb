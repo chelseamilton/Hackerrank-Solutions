{
 "cells": [
  {
   "cell_type": "markdown",
   "id": "bcfddf35",
   "metadata": {},
   "source": [
    "# Lists\n",
    "\n",
    "Consider a list (list = []). You can perform the following commands:\n",
    "\n",
    "insert i e: Insert integer  at position .\n",
    "print: Print the list.\n",
    "remove e: Delete the first occurrence of integer .\n",
    "append e: Insert integer  at the end of the list.\n",
    "sort: Sort the list.\n",
    "pop: Pop the last element from the list.\n",
    "reverse: Reverse the list.\n",
    "\n",
    "Initialize your list and read in the value of n followed by n lines of commands where each command will be of the 7 types listed above. Iterate through each command in order and perform the corresponding operation on your list."
   ]
  },
  {
   "cell_type": "markdown",
   "id": "97c73f09",
   "metadata": {},
   "source": [
    "Create an empty list lst. N is the number of commands to be performed on the list."
   ]
  },
  {
   "cell_type": "code",
   "execution_count": 1,
   "id": "a088c0d4",
   "metadata": {},
   "outputs": [
    {
     "name": "stdout",
     "output_type": "stream",
     "text": [
      "12\n"
     ]
    }
   ],
   "source": [
    "if __name__ == '__main__':\n",
    "    N = int(input())\n",
    "    lst = []"
   ]
  },
  {
   "cell_type": "markdown",
   "id": "e7290353",
   "metadata": {},
   "source": [
    "We run a for loop for the number of commands to be performed on the list. X is the variable that asks the user which command should be performed. We use .split() function to split the command, ie., if the user says insert 3 1, when we use split we get, ['insert', '3', '1']. We then run a if-else loop."
   ]
  },
  {
   "cell_type": "code",
   "execution_count": 2,
   "id": "e3bdd427",
   "metadata": {},
   "outputs": [
    {
     "name": "stdout",
     "output_type": "stream",
     "text": [
      "enter command : insert 0 5\n",
      "enter command : insert 1 10\n",
      "enter command : insert 0 6\n",
      "enter command : print\n",
      "[6, 5, 10]\n",
      "enter command : remove 6\n",
      "enter command : append 9\n",
      "enter command : append 1\n",
      "enter command : sort\n",
      "enter command : print\n",
      "[1, 5, 9, 10]\n",
      "enter command : pop\n",
      "enter command : reverse\n",
      "enter command : print\n",
      "[9, 5, 1]\n"
     ]
    }
   ],
   "source": [
    " for _ in range(N):\n",
    "        x = (input('enter command : ')).split()\n",
    "        if x[0] == 'insert':\n",
    "            lst.insert(int(x[1]), int(x[2]))\n",
    "        elif x[0] == 'remove':\n",
    "            lst.remove(int(x[1]))\n",
    "        elif x[0] == 'append':\n",
    "            lst.append(int(x[1]))\n",
    "        elif x[0] == 'sort':\n",
    "            lst.sort()\n",
    "        elif x[0] == 'pop':\n",
    "            lst.pop()\n",
    "        elif x[0] == 'reverse':\n",
    "            lst.reverse()\n",
    "        elif x[0] == 'print':\n",
    "            print(lst)"
   ]
  },
  {
   "cell_type": "markdown",
   "id": "c21ebeeb",
   "metadata": {},
   "source": [
    "*if you're copy pasting the code on hackerrank, ensure you remove 'enter command' "
   ]
  }
 ],
 "metadata": {
  "kernelspec": {
   "display_name": "Python 3",
   "language": "python",
   "name": "python3"
  },
  "language_info": {
   "codemirror_mode": {
    "name": "ipython",
    "version": 3
   },
   "file_extension": ".py",
   "mimetype": "text/x-python",
   "name": "python",
   "nbconvert_exporter": "python",
   "pygments_lexer": "ipython3",
   "version": "3.9.5"
  }
 },
 "nbformat": 4,
 "nbformat_minor": 5
}
