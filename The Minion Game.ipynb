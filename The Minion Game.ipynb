{
 "cells": [
  {
   "cell_type": "markdown",
   "id": "e1e07ead",
   "metadata": {},
   "source": [
    "# The Minion Game\n",
    "\n",
    "Kevin and Stuart want to play the 'The Minion Game'.\n",
    "\n",
    "Game Rules\n",
    "\n",
    "Both players are given the same string, S.\n",
    "Both players have to make substrings using the letters of the string S.\n",
    "Stuart has to make words starting with consonants.\n",
    "Kevin has to make words starting with vowels.\n",
    "The game ends when both players have made all possible substrings.\n",
    "\n",
    "Scoring\n",
    "A player gets +1 point for each occurrence of the substring in the string S.\n",
    "\n",
    "For Example:\n",
    "String S = BANANA\n",
    "Kevin's vowel beginning word = ANA\n",
    "Here, ANA occurs twice in BANANA. Hence, Kevin will get 2 Points.\n"
   ]
  },
  {
   "cell_type": "markdown",
   "id": "21288601",
   "metadata": {},
   "source": [
    "String stores the input variable, the .upper() function is used to capitalize the string. We then store all vowels in the vowels variable. We initialise Stuart and Kevin's scores to 0."
   ]
  },
  {
   "cell_type": "code",
   "execution_count": 1,
   "id": "7508a855",
   "metadata": {},
   "outputs": [
    {
     "name": "stdout",
     "output_type": "stream",
     "text": [
      "Enter string : banana\n"
     ]
    }
   ],
   "source": [
    "string = input('Enter string : ').upper()\n",
    "\n",
    "stuart, kevin = 0, 0\n",
    "vowels = 'AEIOU'"
   ]
  },
  {
   "cell_type": "markdown",
   "id": "341e194e",
   "metadata": {},
   "source": [
    "We run a for loop for the length of the input string. We then initialise a if-else loop. We use i to run through all the indexes in the length of the input string and check if any of the letter is a vowel. \n",
    "\n",
    "If string[i] is a vowel, we add the length of the string to Kevin's score and subtract the value of the index, ie., if in BANANA, A at index string[1] is a vowel then we add the length of the string (6) and subtract the index value of A (1). We do this because, from A the substrings that can be formed are = A, AN, ANA, ANAN, ANANA = 5 substrings = len(string) - i.\n",
    "\n",
    "The += operator is used to add the respective score to Kevin/Stuart for everytime the for loop runs and the index is increased by 1."
   ]
  },
  {
   "cell_type": "code",
   "execution_count": 2,
   "id": "87f68f1c",
   "metadata": {},
   "outputs": [],
   "source": [
    "for i in range(len(string)):\n",
    "    if string[i] in vowels:\n",
    "        kevin += len(string) - i\n",
    "    else:\n",
    "        stuart += len(string) - i"
   ]
  },
  {
   "cell_type": "markdown",
   "id": "ec549c31",
   "metadata": {},
   "source": [
    "We then use if-else loop to check who has more words. "
   ]
  },
  {
   "cell_type": "code",
   "execution_count": 3,
   "id": "9a94ccd1",
   "metadata": {},
   "outputs": [
    {
     "name": "stdout",
     "output_type": "stream",
     "text": [
      "Stuart 12\n"
     ]
    }
   ],
   "source": [
    "if stuart > kevin:\n",
    "    print('Stuart', stuart)\n",
    "elif kevin > stuart:\n",
    "    print('Kevin', kevin)\n",
    "else:\n",
    "    print('Draw')"
   ]
  }
 ],
 "metadata": {
  "kernelspec": {
   "display_name": "Python 3",
   "language": "python",
   "name": "python3"
  },
  "language_info": {
   "codemirror_mode": {
    "name": "ipython",
    "version": 3
   },
   "file_extension": ".py",
   "mimetype": "text/x-python",
   "name": "python",
   "nbconvert_exporter": "python",
   "pygments_lexer": "ipython3",
   "version": "3.9.5"
  }
 },
 "nbformat": 4,
 "nbformat_minor": 5
}
