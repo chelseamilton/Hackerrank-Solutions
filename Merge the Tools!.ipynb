{
 "cells": [
  {
   "attachments": {},
   "cell_type": "markdown",
   "id": "e57c20ed",
   "metadata": {},
   "source": [
    "# Merge the Tools!\n",
    "\n",
    "s = 'AAABCADDE'\n",
    "\n",
    "k = 3\n",
    "\n",
    "There are three substrings of length 3 to consider: 'AAA', 'BCA' and 'DDE'. The first substring is all 'A' characters, so u1 = A. The second substring has all distinct characters, so u2 = BCA. The third substring has  different characters, so u3 = DE. Note that a subsequence maintains the original order of characters encountered. The order of characters in each subsequence shown is important."
   ]
  },
  {
   "cell_type": "markdown",
   "id": "1accf627",
   "metadata": {},
   "source": [
    "String is used to store the input string, and k denotes the length of the substrings."
   ]
  },
  {
   "cell_type": "code",
   "execution_count": 1,
   "id": "73f31aac",
   "metadata": {},
   "outputs": [
    {
     "name": "stdout",
     "output_type": "stream",
     "text": [
      "string : AABCAAADA\n",
      "k = 3\n"
     ]
    }
   ],
   "source": [
    "string = input('string : ')\n",
    "k = int(input('k = '))"
   ]
  },
  {
   "cell_type": "markdown",
   "id": "8b767908",
   "metadata": {},
   "source": [
    "We start an empty list called l and a variable m and equate it to 0."
   ]
  },
  {
   "cell_type": "code",
   "execution_count": 3,
   "id": "5517f154",
   "metadata": {},
   "outputs": [],
   "source": [
    "l = []\n",
    "m = 0"
   ]
  },
  {
   "cell_type": "markdown",
   "id": "9f2e0418",
   "metadata": {},
   "source": [
    "We start a for loop with length of the string as the range and k as the step size. We then use slicing method. \n",
    "string[m:m+k]means that, when we run the for loop for i (0, 3 and 6), that is 3 times - \n",
    "\n",
    "1. when m = 0 (In AABCAAADA, at string[0] we have A and at m+k (0+3 = 3) we have C so the letters between index 0 and index 3 are considered, ie., AAB (string[0:3]) )\n",
    "2. when m = 3 (string[3] = C and string[6] = A --> string[3:6] = CAA)\n",
    "3. when m = 6 (string[6] = A and string[9] = A --> string[6:9] = ADA)\n",
    "\n",
    "The substrings are further appended into the list l using .append() method."
   ]
  },
  {
   "cell_type": "code",
   "execution_count": 4,
   "id": "7f8f6f85",
   "metadata": {},
   "outputs": [],
   "source": [
    "for i in range(0, len(string), k):\n",
    "    l.append(string[m:m+k])\n",
    "    m += k"
   ]
  },
  {
   "cell_type": "markdown",
   "id": "047ebbd4",
   "metadata": {},
   "source": [
    "We run another for loop for all the element in list l. This for loop is to remove duplicates ie., if the first substring is AAB, we will retain one A and the other A will be removed. \n",
    "\n",
    "1. dict.fromkeys(list(p)) - the dict.fromkeys method takes all the elements of a list and makes them as keys. We use the dictionary data type as dictionary only uses one of a kind as a key from the given list. So if the list of the substring is ['A', 'A', 'B'] the dict.fromkeys(list(p)) makes it as --> {'A' : none, 'B' : none}.\n",
    "\n",
    "We could use the set() method here to remove duplicates, but the set method does not follow insertion order. \n",
    "\n",
    "2. We use the ''.join() method to join the keys."
   ]
  },
  {
   "cell_type": "code",
   "execution_count": 8,
   "id": "603677e7",
   "metadata": {},
   "outputs": [
    {
     "name": "stdout",
     "output_type": "stream",
     "text": [
      "AB\n",
      "CA\n",
      "AD\n"
     ]
    }
   ],
   "source": [
    "for p in l:\n",
    "    print(''.join(dict.fromkeys(list(p))))"
   ]
  }
 ],
 "metadata": {
  "kernelspec": {
   "display_name": "Python 3",
   "language": "python",
   "name": "python3"
  },
  "language_info": {
   "codemirror_mode": {
    "name": "ipython",
    "version": 3
   },
   "file_extension": ".py",
   "mimetype": "text/x-python",
   "name": "python",
   "nbconvert_exporter": "python",
   "pygments_lexer": "ipython3",
   "version": "3.9.5"
  }
 },
 "nbformat": 4,
 "nbformat_minor": 5
}
